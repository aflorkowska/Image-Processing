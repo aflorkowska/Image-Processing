{
 "cells": [
  {
   "cell_type": "markdown",
   "metadata": {},
   "source": [
    "# Interpolacja i transformacje\n",
    "Opracowanie: A.Florkowska"
   ]
  },
  {
   "cell_type": "code",
   "execution_count": 1,
   "metadata": {},
   "outputs": [],
   "source": [
    "import numpy as np\n",
    "import matplotlib.pyplot as plt\n",
    "import scipy.signal as signal\n",
    "import scipy.ndimage as nd\n",
    "from skimage import io\n",
    "from skimage import color"
   ]
  },
  {
   "cell_type": "code",
   "execution_count": 3,
   "metadata": {},
   "outputs": [],
   "source": [
    "normalize = lambda image: (image - np.min(image)) / (np.max(image) - np.min(image)) \n",
    "image = io.imread(\".././images/example1.png\")\n",
    "image = image[:,:,0:3]\n",
    "image = color.rgb2gray(image)\n",
    "image = normalize(image)"
   ]
  },
  {
   "cell_type": "markdown",
   "metadata": {},
   "source": [
    "# Interpolacja\n",
    "Interpolacja w przetwarzaniu obrazów jest techniką używaną do zmiany rozmiaru obrazów, czyli do powiększania lub pomniejszania, oraz do poprawiania geometrii obrazu w procesach takich jak rotacja czy skos. Umożliwia znalezienie wartości obrazu w niezdefiniowanym punkcie na podstawie sąsiadujących pikseli w taki sposób, aby był on jak najlepiej dopasowany optycznie do transformowanego obrazu ( = płynne przejścia między pikselami i zachowanie jakości obrazu po transformacji). Metoda ta znajduje swoje zastosowanie w wizji komputerowej, edycji obrazów i grafice komputerowej. \n",
    "\n",
    "Istnieje kilka głównych metod interpolacji, z których każda oferuje różne kompromisy między jakością a złożonością obliczeniową.\n",
    "\n",
    "- Interpolacja najbliższego sąsiada\n",
    "  * To najprostsza i najszybsza metoda interpolacji\n",
    "  * Polega na przydzieleniu każdemu nowemu pikselowi wartości najbliższego piksela z obrazu źródłowego.\n",
    "  * Może prowadzić do efektu schodkowania (aliasingu), zwłaszcza przy znaczącym powiększeniu obrazu.\n",
    "- Interpolacja liniowa (bilinearna)\n",
    "  * Bardziej zaawansowana metoda\n",
    "  * Bierze pod uwagę wartości czterech najbliższych pikseli z obrazu źródłowego, aby obliczyć wartość nowego piksela. Dzieje się to poprzez wykonanie liniowej interpolacji najpierw w jednym kierunku, a następnie w drugim - stąd bierze swoją nazwę\n",
    "  * Uzyskany obraz jest gładszy, w porównaniu z metodą najbliższego sąsiada\n",
    "- Interpolacja dwusześcienna (bicubic)\n",
    "  * Jeszcze bardziej zaawansowana technika\n",
    "  * W obliczeniach uwzględnia 16 najbliższych pikseli (4x4 otoczenie piksela docelowego).\n",
    "  * Używa wielomianów trzeciego stopnia do wygładzania przejść między pikselami, co prowadzi do jeszcze większej płynności obrazu. Jest to często używana metoda w profesjonalnych aplikacjach do edycji obrazów ze względu na dobrą równowagę między jakością a czasem przetwarzania.\n",
    " \n",
    "Wybór metody interpolacji jest często podyktowany różnymi warunkami: czasem przetwarzania, oczekiwaną jakością obrazu wyjściowego czy typem danych wejściowych. Przykładowo, podczas analizy obrazów binarnych (wartości 0 lub 1) nie można użyć interpolacji liniowej (wprowadziłaby nową uśrednioną wartość, inną niż 0 lub 1), zalecana jest wtedy metoda najbliższego sąsiada."
   ]
  },
  {
   "cell_type": "code",
   "execution_count": null,
   "metadata": {},
   "outputs": [],
   "source": [
    "# todo: dodać kod z transformacją"
   ]
  },
  {
   "cell_type": "markdown",
   "metadata": {},
   "source": [
    "# Transformacja \n",
    "To działanie mające na celu manipulację obiektami lub obrazami poprzez zmianę ich położenia, rozmiaru, kształtu lub orientacji w przestrzeni. Obejmuje poniższe działania:\n",
    "* Translacja: Przesuwanie obiektu lub obrazu w określonym kierunku.\n",
    "* Skalowanie: Zmiana rozmiaru obiektu lub obrazu poprzez zmianę jego wymiarów.\n",
    "* Obrót: Obracanie obiektu lub obrazu wokół określonego punktu lub osi.\n",
    "* Przekształcenie afiniczne: Złożona transformacja obejmująca translację, skalowanie, obrót i/lub ścinanie.\n",
    "* Ścinanie: Zniekształcanie obiektu lub obrazu poprzez zastosowanie przekształcenia perspektywicznego.\n",
    "\n",
    "Wyróżnia się również dwa rodzaje transformacji: \n",
    "- Transformacja sztywna (rigid transformations)\n",
    "  * Zachowuje odległości i kąty między punktami w przestrzeni.\n",
    "  * Oznacza to, że obiekt poddany transformacji sztywnej zostaje przesunięty, obrócony lub obrotno-przesunięty (czyli przesunięty i obrócony jednocześnie), ale jego kształt i rozmiar nie ulegają zmianie.\n",
    "  * Transformacja sztywna jest definiowana przez translację (przesunięcie) i/lub obrót obiektu. \n",
    "- Transformacja afiniczna (affine transformations)\n",
    "  * Zachowuje linie prostą, ale niekoniecznie odległości i kąty.\n",
    "  * Oznacza to, że obiekt poddany transformacji afinicznej może zostać przesunięty, obrócony, skalowany i ścinany (przekształcony perspektywicznie).\n",
    "  * W przeciwieństwie do transformacji sztywnej, transformacja afiniczna może również zmieniać kształt i rozmiar obiektu. "
   ]
  },
  {
   "cell_type": "code",
   "execution_count": 5,
   "metadata": {},
   "outputs": [],
   "source": [
    "# todo: dodać przykład  różnicy w transformacji"
   ]
  },
  {
   "cell_type": "markdown",
   "metadata": {},
   "source": [
    "# Macierze transformacji\n",
    "Transformacje są wykonywane za pomocą macierzy transformacji, które opisują zmianę współrzędnych obiektów w przestrzeni. Każda operacja transformacji ma swoją macierz odpowiadającą za to przekształcenie. Na przykład, macierz translacji przesuwa obiekt o określony wektor, macierz skalowania zmienia rozmiar obiektu przez mnożenie współrzędnych przez odpowiednie skale, a macierz obrotu obraca obiekt o określony kąt.\n",
    "\n",
    "Macierze mają wymiar o jeden większy niż przestrzeń na której operują, czyli przekształcenie w 2D to macierz 3x3, a w 3D to 4x4."
   ]
  },
  {
   "cell_type": "code",
   "execution_count": 4,
   "metadata": {},
   "outputs": [],
   "source": [
    "# todo: dodac zdjecie ze wzorami na wszystkie macierze "
   ]
  },
  {
   "cell_type": "markdown",
   "metadata": {},
   "source": [
    "# Pole przemieszczeń i deformacji"
   ]
  },
  {
   "cell_type": "code",
   "execution_count": 6,
   "metadata": {},
   "outputs": [],
   "source": [
    "# todo"
   ]
  }
 ],
 "metadata": {
  "colab": {
   "name": "TOM_lab4.ipynb",
   "provenance": []
  },
  "kernelspec": {
   "display_name": "Python 3 (ipykernel)",
   "language": "python",
   "name": "python3"
  },
  "language_info": {
   "codemirror_mode": {
    "name": "ipython",
    "version": 3
   },
   "file_extension": ".py",
   "mimetype": "text/x-python",
   "name": "python",
   "nbconvert_exporter": "python",
   "pygments_lexer": "ipython3",
   "version": "3.12.2"
  }
 },
 "nbformat": 4,
 "nbformat_minor": 4
}
