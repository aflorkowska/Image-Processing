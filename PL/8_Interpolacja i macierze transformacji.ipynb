{
 "cells": [
  {
   "cell_type": "markdown",
   "metadata": {},
   "source": [
    "# Interpolacja i transformacje\n",
    "Opracowanie: A.Florkowska"
   ]
  },
  {
   "cell_type": "code",
   "execution_count": 1,
   "metadata": {},
   "outputs": [],
   "source": [
    "import numpy as np\n",
    "import matplotlib.pyplot as plt\n",
    "import scipy.signal as signal\n",
    "import scipy.ndimage as nd\n",
    "from skimage import io\n",
    "from skimage import color"
   ]
  },
  {
   "cell_type": "code",
   "execution_count": 3,
   "metadata": {},
   "outputs": [],
   "source": [
    "normalize = lambda image: (image - np.min(image)) / (np.max(image) - np.min(image)) \n",
    "image = io.imread(\".././images/example1.png\")\n",
    "image = image[:,:,0:3]\n",
    "image = color.rgb2gray(image)\n",
    "image = normalize(image)"
   ]
  },
  {
   "cell_type": "markdown",
   "metadata": {},
   "source": [
    "# Interpolacja\n",
    "Interpolacja w przetwarzaniu obrazów jest techniką używaną do zmiany rozmiaru obrazów, czyli do powiększania lub pomniejszania, oraz do poprawiania geometrii obrazu w procesach takich jak rotacja czy skos. Umożliwia znalezienie wartości obrazu w niezdefiniowanym punkcie na podstawie sąsiadujących pikseli w taki sposób, aby był on jak najlepiej dopasowany optycznie do transformowanego obrazu ( = płynne przejścia między pikselami i zachowanie jakości obrazu po transformacji). Metoda ta znajduje swoje zastosowanie w wizji komputerowej, edycji obrazów i grafice komputerowej. \n",
    "\n",
    "Istnieje kilka głównych metod interpolacji, z których każda oferuje różne kompromisy między jakością a złożonością obliczeniową.\n",
    "\n",
    "- Interpolacja najbliższego sąsiada\n",
    "  * To najprostsza i najszybsza metoda interpolacji\n",
    "  * Polega na przydzieleniu każdemu nowemu pikselowi wartości najbliższego piksela z obrazu źródłowego.\n",
    "  * Może prowadzić do efektu schodkowania (aliasingu), zwłaszcza przy znaczącym powiększeniu obrazu.\n",
    "- Interpolacja liniowa (bilinearna)\n",
    "  * Bardziej zaawansowana metoda\n",
    "  * Bierze pod uwagę wartości czterech najbliższych pikseli z obrazu źródłowego, aby obliczyć wartość nowego piksela. Dzieje się to poprzez wykonanie liniowej interpolacji najpierw w jednym kierunku, a następnie w drugim - stąd bierze swoją nazwę\n",
    "  * Uzyskany obraz jest gładszy, w porównaniu z metodą najbliższego sąsiada\n",
    "- Interpolacja dwusześcienna (bicubic)\n",
    "  * Jeszcze bardziej zaawansowana technika\n",
    "  * W obliczeniach uwzględnia 16 najbliższych pikseli (4x4 otoczenie piksela docelowego).\n",
    "  * Używa wielomianów trzeciego stopnia do wygładzania przejść między pikselami, co prowadzi do jeszcze większej płynności obrazu. Jest to często używana metoda w profesjonalnych aplikacjach do edycji obrazów ze względu na dobrą równowagę między jakością a czasem przetwarzania.\n",
    " \n",
    "Wybór metody interpolacji jest często podyktowany różnymi warunkami: czasem przetwarzania, oczekiwaną jakością obrazu wyjściowego czy typem danych wejściowych. Przykładowo, podczas analizy obrazów binarnych (wartości 0 lub 1) nie można użyć interpolacji liniowej (wprowadziłaby nową uśrednioną wartość, inną niż 0 lub 1), zalecana jest wtedy metoda najbliższego sąsiada."
   ]
  },
  {
   "cell_type": "markdown",
   "metadata": {},
   "source": [
    "# Macierze transformacji"
   ]
  },
  {
   "cell_type": "code",
   "execution_count": null,
   "metadata": {},
   "outputs": [],
   "source": []
  }
 ],
 "metadata": {
  "colab": {
   "name": "TOM_lab4.ipynb",
   "provenance": []
  },
  "kernelspec": {
   "display_name": "Python 3 (ipykernel)",
   "language": "python",
   "name": "python3"
  },
  "language_info": {
   "codemirror_mode": {
    "name": "ipython",
    "version": 3
   },
   "file_extension": ".py",
   "mimetype": "text/x-python",
   "name": "python",
   "nbconvert_exporter": "python",
   "pygments_lexer": "ipython3",
   "version": "3.12.2"
  }
 },
 "nbformat": 4,
 "nbformat_minor": 4
}
